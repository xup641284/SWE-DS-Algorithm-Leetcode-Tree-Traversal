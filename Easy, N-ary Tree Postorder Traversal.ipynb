{
 "cells": [
  {
   "cell_type": "code",
   "execution_count": 2,
   "metadata": {},
   "outputs": [
    {
     "name": "stdout",
     "output_type": "stream",
     "text": [
      "[5, 6, 3, 2, 4, 1]\n"
     ]
    }
   ],
   "source": [
    "class Node:\n",
    "    def __init__(self, val=None, children=None):\n",
    "        self.val = val\n",
    "        self.children = children if children is not None else []\n",
    "\n",
    "def postorder_traversal(root):\n",
    "    def dfs(node):\n",
    "        if not node:\n",
    "            return []\n",
    "        result = []\n",
    "        for child in node.children:\n",
    "            result += dfs(child)\n",
    "        result.append(node.val)\n",
    "        return result\n",
    "\n",
    "    return dfs(root)\n",
    "\n",
    "# Example usage:\n",
    "root = Node(1, [Node(3, [Node(5), Node(6)]), Node(2), Node(4)])\n",
    "print(postorder_traversal(root))  # Output: [5, 6, 3, 2, 4, 1]\n"
   ]
  },
  {
   "cell_type": "code",
   "execution_count": null,
   "metadata": {},
   "outputs": [],
   "source": []
  }
 ],
 "metadata": {
  "kernelspec": {
   "display_name": "Python 3",
   "language": "python",
   "name": "python3"
  },
  "language_info": {
   "codemirror_mode": {
    "name": "ipython",
    "version": 3
   },
   "file_extension": ".py",
   "mimetype": "text/x-python",
   "name": "python",
   "nbconvert_exporter": "python",
   "pygments_lexer": "ipython3",
   "version": "3.7.1"
  }
 },
 "nbformat": 4,
 "nbformat_minor": 2
}
